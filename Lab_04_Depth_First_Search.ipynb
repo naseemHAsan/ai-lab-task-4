{
  "nbformat": 4,
  "nbformat_minor": 0,
  "metadata": {
    "colab": {
      "provenance": [],
      "collapsed_sections": []
    },
    "kernelspec": {
      "name": "python3",
      "display_name": "Python 3"
    },
    "language_info": {
      "name": "python"
    }
  },
  "cells": [
    {
      "cell_type": "code",
      "execution_count": null,
      "metadata": {
        "colab": {
          "base_uri": "https://localhost:8080/"
        },
        "id": "NQhTl8u_Qq2h",
        "outputId": "b6424627-95e6-44c3-9045-38a1a6c2450d"
      },
      "outputs": [
        {
          "output_type": "stream",
          "name": "stdout",
          "text": [
            "A\n",
            "C\n",
            "G\n",
            "F\n",
            "E\n",
            "['A', 'C', 'E']\n",
            "['D']\n"
          ]
        }
      ],
      "source": [
        "# Activity 1\n",
        "\n",
        "class Node:\n",
        "    def __init__(self, state, parent, actions, totalCost):\n",
        "        self.state = state\n",
        "        self.parent = parent\n",
        "        self.actions = actions\n",
        "\n",
        "        self.totalCost = totalCost\n",
        "\n",
        "def actionSequence(graph, initialState, goalState):\n",
        "    solutions = [goalState]\n",
        "    currentParent = graph[goalState].parent\n",
        "    while currentParent!=None:\n",
        "        solutions.append(currentParent)\n",
        "        currentParent = graph[currentParent].parent\n",
        "    solutions.reverse()\n",
        "    return solutions\n",
        "\n",
        "graph = {\n",
        "    'A': Node('A', None, ['B', 'E', 'C'], None),\n",
        "    'B': Node('B', None, ['D', 'E', 'A'], None),\n",
        "    'C': Node('C', None, ['A', 'F', 'G'], None),\n",
        "    'D': Node('D', None, ['B', 'E'], None),\n",
        "    'E': Node('E', None, ['A', 'B', 'D'], None),\n",
        "    'F': Node('F', None, ['C'], None),\n",
        "    'G': Node('G', None, ['C'], None),\n",
        "}\n",
        "\n",
        "def DFS():\n",
        "    initialState = 'A'\n",
        "    goalState = 'D'\n",
        "\n",
        "    graph = {\n",
        "        'A': Node('A', None, ['B', 'E', 'C'], None),\n",
        "        'B': Node('B', None, ['D', 'E', 'A'], None),\n",
        "        'C': Node('C', None, ['A', 'F', 'G'], None),\n",
        "        'D': Node('D', None, ['B', 'E'], None),\n",
        "        'E': Node('E', None, ['A', 'B', 'D'], None),\n",
        "        'F': Node('F', None, ['C'], None),\n",
        "        'G': Node('G', None, ['C'], None),\n",
        "    }\n",
        "\n",
        "    frontier = [initialState]\n",
        "    explored = []\n",
        "\n",
        "    while len(frontier)!= 0:\n",
        "        currentNode = frontier.pop(len(frontier)-1)\n",
        "        print(currentNode)\n",
        "        explored.append(currentNode)\n",
        "        currentChildren = 0\n",
        "        for child in graph[currentNode].actions:\n",
        "            if child not in frontier and child not in explored:\n",
        "                graph[child].state == currentNode\n",
        "                if graph[child].state == goalState:\n",
        "                    print(explored)\n",
        "                    return actionSequence(graph, initialState, goalState)\n",
        "                currentChildren = currentChildren + 1\n",
        "                frontier.append(child)\n",
        "        if currentChildren == 0:\n",
        "            del explored[len(explored)-1]\n",
        "\n",
        "solution = DFS()\n",
        "print(solution)"
      ]
    },
    {
      "cell_type": "code",
      "source": [
        "# Activity 2\n",
        "\n",
        "class Node:\n",
        "    def __init__(self, state, parent, actions, totalCost):\n",
        "        self.state = state\n",
        "        self.parent = parent\n",
        "        self.actions = actions\n",
        "\n",
        "        self.totalCost = totalCost\n",
        "\n",
        "def actionSequence(graph, initialState, goalState):\n",
        "    solutions = [goalState]\n",
        "    currentParent = graph[goalState].parent\n",
        "    while currentParent!=None:\n",
        "        solutions.append(currentParent)\n",
        "        currentParent = graph[currentParent].parent\n",
        "    solutions.reverse()\n",
        "    return solutions\n",
        "\n",
        "graph = {\n",
        "    'A': Node('A', None, ['B', 'E', 'C'], None),\n",
        "    'B': Node('B', None, ['D', 'E', 'A'], None),\n",
        "    'C': Node('C', None, ['A', 'F', 'G'], None),\n",
        "    'D': Node('D', None, ['B', 'E'], None),\n",
        "    'E': Node('E', None, ['A', 'B', 'D'], None),\n",
        "    'F': Node('F', None, ['C'], None),\n",
        "    'G': Node('G', None, ['C'], None),\n",
        "}\n",
        "\n",
        "def DFS():\n",
        "    initialState = 'D'\n",
        "    goalState = 'C'\n",
        "\n",
        "    graph = {\n",
        "        'A': Node('A', None, ['B', 'E', 'C'], None),\n",
        "        'B': Node('B', None, ['D', 'E', 'A'], None),\n",
        "        'C': Node('C', None, ['A', 'F', 'G'], None),\n",
        "        'D': Node('D', None, ['B', 'E'], None),\n",
        "        'E': Node('E', None, ['A', 'B', 'D'], None),\n",
        "        'F': Node('F', None, ['C'], None),\n",
        "        'G': Node('G', None, ['C'], None),\n",
        "    }\n",
        "\n",
        "    frontier = [initialState]\n",
        "    explored = []\n",
        "\n",
        "    while len(frontier)!= 0:\n",
        "        currentNode = frontier.pop(len(frontier)-1)\n",
        "        print(currentNode)\n",
        "        explored.append(currentNode)\n",
        "        currentChildren = 0\n",
        "        for child in graph[currentNode].actions:\n",
        "            if child not in frontier and child not in explored:\n",
        "                graph[child].state == currentNode\n",
        "                if graph[child].state == goalState:\n",
        "                    print(explored)\n",
        "                    return actionSequence(graph, initialState, goalState)\n",
        "                currentChildren = currentChildren + 1\n",
        "                frontier.append(child)\n",
        "        if currentChildren == 0:\n",
        "            del explored[len(explored)-1]\n",
        "\n",
        "solution = DFS()\n",
        "print(solution)"
      ],
      "metadata": {
        "colab": {
          "base_uri": "https://localhost:8080/"
        },
        "id": "Yh3-8RGHREmL",
        "outputId": "a9abf2c6-1978-421c-e3d2-74c4d0d4d058"
      },
      "execution_count": null,
      "outputs": [
        {
          "output_type": "stream",
          "name": "stdout",
          "text": [
            "D\n",
            "E\n",
            "A\n",
            "['D', 'E', 'A']\n",
            "['C']\n"
          ]
        }
      ]
    },
    {
      "cell_type": "code",
      "source": [],
      "metadata": {
        "id": "lLLc_s2-RKpi"
      },
      "execution_count": null,
      "outputs": []
    }
  ]
}